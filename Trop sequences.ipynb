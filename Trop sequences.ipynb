{
 "cells": [
  {
   "cell_type": "code",
   "execution_count": 1,
   "metadata": {
    "collapsed": false
   },
   "outputs": [
    {
     "name": "stdout",
     "output_type": "stream",
     "text": [
      "Populating the interactive namespace from numpy and matplotlib\n"
     ]
    }
   ],
   "source": [
    "%pylab inline"
   ]
  },
  {
   "cell_type": "code",
   "execution_count": 5,
   "metadata": {
    "collapsed": true
   },
   "outputs": [],
   "source": [
    "import re\n",
    "import xml.etree.ElementTree as ET"
   ]
  },
  {
   "cell_type": "code",
   "execution_count": 34,
   "metadata": {
    "collapsed": false
   },
   "outputs": [],
   "source": [
    "tropnames = {'etnakhta': u'\\u0591', 'segol': u'\\u0592', 'shalshelet': u'\\u0593', 'katan': u'\\u0594', 'gadol': u'\\u0595',\n",
    "             'tipkha': u'\\u0596', 'revii': u'\\u0597', 'tsinnorit': u'\\u0598', 'pashta': u'\\u0599', 'yetiv': u'\\u059a', 'tevir': u'\\u059b',\n",
    "             'geresh': u'\\u059c', 'gereshmukdam': u'\\u059d', 'gershayim': u'\\u059e', 'karnepara': u'\\u059f', 'telishagedola': u'\\u05a0',\n",
    "             'pazer': u'\\u05a1', 'munakh': u'\\u05a3', 'mapakh': u'\\u05a4', 'merkha': u'\\u05a5',\n",
    "             'merkhakfula': u'\\u05a6', 'darga': u'\\u05a7', 'kadma': u'\\u05a8', 'telishaketana': u'\\u05a9', 'yerakhbenyomo': u'\\u05aa',\n",
    "             'sofpasuk': u'\\u05c3', 'zarka': u'\\u05ae'}\n",
    "\n",
    "# per wikipedia: Note that both marks have been wrongly named by Unicode.[5][6] Zarqa/tsinnor corresponds to Unicode\n",
    "# \"Hebrew accent zinor\", code point U+05AE (where \"zinor\" is a misspelled form for tsinnor), while tsinnorit maps to\n",
    "# \"Hebrew accent zarqa\", code point U+0598. \n",
    "\n",
    "tropchars = {tropnames[t]: t for t in tropnames}"
   ]
  },
  {
   "cell_type": "code",
   "execution_count": 53,
   "metadata": {
    "collapsed": false
   },
   "outputs": [],
   "source": [
    "sfarim = ['bereshit', 'shmot', 'vayikra', 'bmidbar', 'dvarim']\n",
    "\n",
    "counts = {}\n",
    "for sefer in sfarim:\n",
    "    counts[sefer] = {}\n",
    "    tree = ET.parse(sefer + '.xml')\n",
    "    root = tree.getroot() \n",
    "    prakim = root.findall('.//c')\n",
    "    for perek in prakim:\n",
    "        pereknum = int(perek.attrib['n'])\n",
    "        if pereknum not in counts[sefer]: counts[sefer][pereknum] = {}\n",
    "        psukim = perek.findall('v')\n",
    "        for pasuk in psukim:\n",
    "            pasuknum = int(pasuk.attrib['n'])\n",
    "            if pasuknum not in counts[sefer][pereknum]:\n",
    "                row = {name: 0 for name in tropnames.keys()}\n",
    "                row['sefer'] = sefer\n",
    "                row['pasuk'] = pasuknum\n",
    "                row['perek'] = pereknum\n",
    "                counts[sefer][pereknum][pasuknum] = row\n",
    "            words = pasuk.findall('w')\n",
    "#             print words.map(text)\n",
    "        \n",
    "#             if 'wordcount' not in counts[sefer][pereknum][pasuknum]:\n",
    "#                 counts[sefer][pereknum][pasuknum]['wordcount'] = len(words)\n",
    "#             else:\n",
    "#                 counts[sefer][pereknum][pasuknum]['wordcount'] += len(words)\n",
    "#             for wordobj in words:\n",
    "#                 word = wordobj.text\n",
    "#                 for trop in tropnames:\n",
    "#                     if tropnames[trop] in word: # if there is ever the same trop more than once on one word, it won't be captured here\n",
    "#                         counts[sefer][pereknum][pasuknum][trop] += 1"
   ]
  },
  {
   "cell_type": "code",
   "execution_count": 101,
   "metadata": {
    "collapsed": false
   },
   "outputs": [],
   "source": [
    "wordslist = map(lambda w: list(w.text), words)"
   ]
  },
  {
   "cell_type": "code",
   "execution_count": 137,
   "metadata": {
    "collapsed": false
   },
   "outputs": [],
   "source": [
    "troplist = map(lambda w: filter(lambda c: c in tropchars, w), wordslist)\n",
    "troplist = filter(lambda w: len(w) > 0, troplist)"
   ]
  },
  {
   "cell_type": "code",
   "execution_count": 134,
   "metadata": {
    "collapsed": true
   },
   "outputs": [],
   "source": [
    "def commajoin(w):\n",
    "    return ','.join(w)"
   ]
  },
  {
   "cell_type": "code",
   "execution_count": 143,
   "metadata": {
    "collapsed": false
   },
   "outputs": [],
   "source": [
    "troplist[0].append(u'\\u0596') # for debug purposes"
   ]
  },
  {
   "cell_type": "code",
   "execution_count": 147,
   "metadata": {
    "collapsed": false
   },
   "outputs": [
    {
     "data": {
      "text/plain": [
       "[[u'\\u0599', u'\\u0596', u'\\u0596'],\n",
       " [u'\\u05a3'],\n",
       " [u'\\u0594'],\n",
       " [u'\\u0596'],\n",
       " [u'\\u05a3'],\n",
       " [u'\\u0591'],\n",
       " [u'\\u0599'],\n",
       " [u'\\u05a3'],\n",
       " [u'\\u0594'],\n",
       " [u'\\u0596'],\n",
       " [u'\\u05c3']]"
      ]
     },
     "execution_count": 147,
     "metadata": {},
     "output_type": "execute_result"
    }
   ],
   "source": [
    "troplist"
   ]
  },
  {
   "cell_type": "code",
   "execution_count": 150,
   "metadata": {
    "collapsed": false
   },
   "outputs": [],
   "source": [
    "# there's probably a better way to do this, but I can't think of it\n",
    "flattroplist = []\n",
    "for w in troplist:\n",
    "    for c in w:\n",
    "        flattroplist.append(c)"
   ]
  },
  {
   "cell_type": "code",
   "execution_count": 154,
   "metadata": {
    "collapsed": false
   },
   "outputs": [
    {
     "data": {
      "text/plain": [
       "u'\\u0599,\\u0596,\\u0596,\\u05a3,\\u0594,\\u0596,\\u05a3,\\u0591,\\u0599,\\u05a3,\\u0594,\\u0596,\\u05c3'"
      ]
     },
     "execution_count": 154,
     "metadata": {},
     "output_type": "execute_result"
    }
   ],
   "source": [
    "commanjoin(flattroplist)"
   ]
  },
  {
   "cell_type": "code",
   "execution_count": 141,
   "metadata": {
    "collapsed": false
   },
   "outputs": [],
   "source": [
    "pasuktropstring = map(commajoin, troplist)"
   ]
  },
  {
   "cell_type": "code",
   "execution_count": 142,
   "metadata": {
    "collapsed": false
   },
   "outputs": [
    {
     "data": {
      "text/plain": [
       "[u'\\u0599,\\u0596',\n",
       " u'\\u05a3',\n",
       " u'\\u0594',\n",
       " u'\\u0596',\n",
       " u'\\u05a3',\n",
       " u'\\u0591',\n",
       " u'\\u0599',\n",
       " u'\\u05a3',\n",
       " u'\\u0594',\n",
       " u'\\u0596',\n",
       " u'\\u05c3']"
      ]
     },
     "execution_count": 142,
     "metadata": {},
     "output_type": "execute_result"
    }
   ],
   "source": [
    "pasuktropstring\n",
    "# [tropchars[s] for s in pasuktropstring]"
   ]
  },
  {
   "cell_type": "code",
   "execution_count": 155,
   "metadata": {
    "collapsed": false
   },
   "outputs": [
    {
     "data": {
      "text/plain": [
       "['pashta',\n",
       " 'tipkha',\n",
       " 'tipkha',\n",
       " 'munakh',\n",
       " 'katan',\n",
       " 'tipkha',\n",
       " 'munakh',\n",
       " 'etnakhta',\n",
       " 'pashta',\n",
       " 'munakh',\n",
       " 'katan',\n",
       " 'tipkha',\n",
       " 'sofpasuk']"
      ]
     },
     "execution_count": 155,
     "metadata": {},
     "output_type": "execute_result"
    }
   ],
   "source": [
    "map(lambda c: tropchars[c], flattroplist)"
   ]
  },
  {
   "cell_type": "code",
   "execution_count": 21,
   "metadata": {
    "collapsed": false
   },
   "outputs": [
    {
     "data": {
      "text/plain": [
       "[u'\\u0597',\n",
       " u'\\u059d',\n",
       " u'\\u05a6',\n",
       " u'\\u059e',\n",
       " u'\\u059b',\n",
       " u'\\u059f',\n",
       " u'\\u0595',\n",
       " u'\\u05a0',\n",
       " u'\\u0599',\n",
       " u'\\u0593',\n",
       " u'\\u0596',\n",
       " u'\\u059a',\n",
       " u'\\u0592',\n",
       " u'\\u05aa',\n",
       " u'\\u05ae',\n",
       " u'\\u05a3',\n",
       " u'\\u05a5',\n",
       " u'\\u05a8',\n",
       " u'\\u0591',\n",
       " u'\\u05c3',\n",
       " u'\\u0598',\n",
       " u'\\u059c',\n",
       " u'\\u05a9',\n",
       " u'\\u05a7',\n",
       " u'\\u05a1',\n",
       " u'\\u05a4',\n",
       " u'\\u0594']"
      ]
     },
     "execution_count": 21,
     "metadata": {},
     "output_type": "execute_result"
    }
   ],
   "source": [
    "tropnames.values()"
   ]
  }
 ],
 "metadata": {
  "kernelspec": {
   "display_name": "Python 2",
   "language": "python",
   "name": "python2"
  },
  "language_info": {
   "codemirror_mode": {
    "name": "ipython",
    "version": 2
   },
   "file_extension": ".py",
   "mimetype": "text/x-python",
   "name": "python",
   "nbconvert_exporter": "python",
   "pygments_lexer": "ipython2",
   "version": "2.7.9"
  }
 },
 "nbformat": 4,
 "nbformat_minor": 0
}
