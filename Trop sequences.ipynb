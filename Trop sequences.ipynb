{
 "cells": [
  {
   "cell_type": "code",
   "execution_count": 2,
   "metadata": {
    "collapsed": false
   },
   "outputs": [
    {
     "name": "stdout",
     "output_type": "stream",
     "text": [
      "Populating the interactive namespace from numpy and matplotlib\n"
     ]
    }
   ],
   "source": [
    "%pylab inline\n",
    "## -*- coding: utf-8 -*-"
   ]
  },
  {
   "cell_type": "code",
   "execution_count": 341,
   "metadata": {
    "collapsed": false
   },
   "outputs": [],
   "source": [
    "import re\n",
    "import json\n",
    "import time\n",
    "import copy\n",
    "import xml.etree.ElementTree as ET"
   ]
  },
  {
   "cell_type": "code",
   "execution_count": 4,
   "metadata": {
    "collapsed": false
   },
   "outputs": [],
   "source": [
    "tropnames = {'etnakhta': u'\\u0591', 'segol': u'\\u0592', 'shalshelet': u'\\u0593', 'katan': u'\\u0594', 'gadol': u'\\u0595',\n",
    "             'tipkha': u'\\u0596', 'revii': u'\\u0597', 'tsinnorit': u'\\u0598', 'pashta': u'\\u0599', 'yetiv': u'\\u059a', 'tevir': u'\\u059b',\n",
    "             'geresh': u'\\u059c', 'gereshmukdam': u'\\u059d', 'gershayim': u'\\u059e', 'karnepara': u'\\u059f', 'telishagedola': u'\\u05a0',\n",
    "             'pazer': u'\\u05a1', 'munakh': u'\\u05a3', 'mapakh': u'\\u05a4', 'merkha': u'\\u05a5',\n",
    "             'merkhakfula': u'\\u05a6', 'darga': u'\\u05a7', 'kadma': u'\\u05a8', 'telishaketana': u'\\u05a9', 'yerakhbenyomo': u'\\u05aa',\n",
    "             'sofpasuk': u'\\u05c3', 'zarka': u'\\u05ae'}\n",
    "\n",
    "# per wikipedia: Note that both marks have been wrongly named by Unicode.[5][6] Zarqa/tsinnor corresponds to Unicode\n",
    "# \"Hebrew accent zinor\", code point U+05AE (where \"zinor\" is a misspelled form for tsinnor), while tsinnorit maps to\n",
    "# \"Hebrew accent zarqa\", code point U+0598. \n",
    "\n",
    "tropchars = {tropnames[t]: t for t in tropnames}"
   ]
  },
  {
   "cell_type": "markdown",
   "metadata": {},
   "source": [
    "## Parse"
   ]
  },
  {
   "cell_type": "code",
   "execution_count": 427,
   "metadata": {
    "collapsed": false
   },
   "outputs": [],
   "source": [
    "sfarim = ['bereshit', 'shmot', 'vayikra', 'bmidbar', 'dvarim']\n",
    "\n",
    "tropstrings = {}\n",
    "for sefer in sfarim:\n",
    "    tropstrings[sefer] = {}\n",
    "    tree = ET.parse(sefer + '.xml')\n",
    "    root = tree.getroot() \n",
    "    prakim = root.findall('.//c')\n",
    "    for perek in prakim:\n",
    "        pereknum = int(perek.attrib['n'])\n",
    "        if pereknum not in tropstrings[sefer]: tropstrings[sefer][pereknum] = {}\n",
    "        psukim = perek.findall('v')\n",
    "        for pasuk in psukim:\n",
    "            pasuknum = int(pasuk.attrib['n'])\n",
    "            if pasuknum not in tropstrings[sefer][pereknum]:\n",
    "                # row = {name: 0 for name in tropnames.keys()}\n",
    "                # row['sefer'] = sefer\n",
    "                # row['pasuk'] = pasuknum\n",
    "                # row['perek'] = pereknum\n",
    "                tropstrings[sefer][pereknum][pasuknum] = ''\n",
    "#             words = pasuk.findall('w') # TODO: also look for <q> tags for qtiv\n",
    "            words = [w for w in pasuk if w.tag=='w' or w.tag=='q']\n",
    "            wordslist = map(lambda w: list(w.text), words)\n",
    "            troplist = map(lambda w: filter(lambda c: c in tropchars, w), wordslist)\n",
    "            troplist = filter(lambda w: len(w) > 0, troplist)\n",
    "            # there's probably a better way to do this, but I can't think of it\n",
    "            flattroplist = []\n",
    "            for w in troplist:\n",
    "                for c in w:\n",
    "                    flattroplist.append(c)\n",
    "            tropstrings[sefer][pereknum][pasuknum] += ''.join(flattroplist)"
   ]
  },
  {
   "cell_type": "markdown",
   "metadata": {},
   "source": [
    "## Build the tree (and the seqsearch helper)"
   ]
  },
  {
   "cell_type": "code",
   "execution_count": 643,
   "metadata": {
    "collapsed": false
   },
   "outputs": [],
   "source": [
    "zeros = {s: {pe: {pa: 0 for pa in tropstrings[s][pe]} for pe in tropstrings[s]} for s in tropstrings}\n",
    "lengths = {s: {pe: {pa: len(tropstrings[s][pe][pa]) for pa in tropstrings[s][pe]} for pe in tropstrings[s]} for s in tropstrings}"
   ]
  },
  {
   "cell_type": "code",
   "execution_count": 645,
   "metadata": {
    "collapsed": false
   },
   "outputs": [],
   "source": [
    "def seqsearch(seq, s):\n",
    "#     print len(sources)\n",
    "    seqcount = 0\n",
    "    \n",
    "    seqlist = ','.join(map(lambda c: tropchars[c], list(seq)))\n",
    "    if seqlist not in sequencecountsbypasuk:\n",
    "        sequencecountsbypasuk[seqlist] = {}\n",
    "        \n",
    "    if s != []:\n",
    "        newsources = []\n",
    "        for source in s:\n",
    "#             print sources\n",
    "            found = re.findall(seq, tropstrings[source[0]][source[1]][source[2]])\n",
    "            seqcount += len(found)\n",
    "            if len(found) > 0:\n",
    "                newsources.append(source)\n",
    "                \n",
    "                if source[0] not in sequencecountsbypasuk[seqlist]: sequencecountsbypasuk[seqlist][source[0]] = {}\n",
    "                if source[1] not in sequencecountsbypasuk[seqlist][source[0]]: sequencecountsbypasuk[seqlist][source[0]][source[1]] = {}\n",
    "#                 if source[2] not in sequencecountsbypasuk[seq][source[0]][source[1]]: sequencecountsbypasuk[seq][source[0]][source[1]][source[2]] = {}\n",
    "                sequencecountsbypasuk[seqlist][source[0]][source[1]][source[2]] = len(found)\n",
    "        if len(newsources) > 0: s = newsources\n",
    "    else:\n",
    "        for sefer in tropstrings:\n",
    "            for perek in tropstrings[sefer]:\n",
    "                for pasuk in tropstrings[sefer][perek]:\n",
    "                    found = re.findall(seq, tropstrings[sefer][perek][pasuk])\n",
    "                    seqcount += len(found)\n",
    "                    if len(found) > 0:\n",
    "                        s.append((sefer, perek, pasuk))\n",
    "                        \n",
    "                        if sefer not in sequencecountsbypasuk[seqlist]: sequencecountsbypasuk[seqlist][sefer] = {}\n",
    "                        if perek not in sequencecountsbypasuk[seqlist][sefer]: sequencecountsbypasuk[seqlist][sefer][perek] = {}\n",
    "#                         if pasuk not in sequencecountsbypasuk[seq][sefer][perek][pasuk]: sequencecountsbypasuk[seq][sefer][perek][pasuk] = {}\n",
    "                        sequencecountsbypasuk[seqlist][sefer][perek][pasuk] = len(found)\n",
    "    return (seqcount, s)"
   ]
  },
  {
   "cell_type": "code",
   "execution_count": 429,
   "metadata": {
    "collapsed": false
   },
   "outputs": [
    {
     "data": {
      "text/plain": [
       "['munakh',\n",
       " 'revii',\n",
       " 'pashta',\n",
       " 'katan',\n",
       " 'kadma',\n",
       " 'darga',\n",
       " 'tevir',\n",
       " 'merkha',\n",
       " 'tipkha',\n",
       " 'etnakhta',\n",
       " 'merkha',\n",
       " 'tipkha',\n",
       " 'sofpasuk']"
      ]
     },
     "execution_count": 429,
     "metadata": {},
     "output_type": "execute_result"
    }
   ],
   "source": [
    "map(lambda t: tropchars[t], tropstrings['dvarim'][16][18])"
   ]
  },
  {
   "cell_type": "code",
   "execution_count": 582,
   "metadata": {
    "collapsed": false,
    "scrolled": true
   },
   "outputs": [
    {
     "data": {
      "text/plain": [
       "(1, [('dvarim', 5, 8)])"
      ]
     },
     "execution_count": 582,
     "metadata": {},
     "output_type": "execute_result"
    }
   ],
   "source": [
    "seqsearch(tropnames['merkha']+tropnames['merkha'], [])"
   ]
  },
  {
   "cell_type": "code",
   "execution_count": 396,
   "metadata": {
    "collapsed": false
   },
   "outputs": [],
   "source": [
    "def getcounts(seq, sources):\n",
    "    parent = []\n",
    "    for trop in tropnames:\n",
    "        thisseq = seq+tropnames[trop]\n",
    "#         seqlist = map(lambda c: tropchars[c], list(thisseq)) # for printing\n",
    "#         print \"Searching for \" + str(seqlist) + \" in \" + str(len(sources)) + \" psukim\"\n",
    "        seqcount, localsources = seqsearch(thisseq, copy.copy(sources))\n",
    "#         print \"Found \" + str(seqcount) + \" in \" + str(len(sources)) + \" psukim\"\n",
    "        if seqcount > 0:\n",
    "            parent.append({'name': tropchars[tropnames[trop]], 'char': tropnames[trop], 'count': seqcount});\n",
    "            parent[len(parent)-1]['children'] = getcounts(thisseq, localsources)\n",
    "#         sources = [] # if you finish all of the trop, go back to looking in all. stupid way to make this happen.\n",
    "    return parent"
   ]
  },
  {
   "cell_type": "code",
   "execution_count": 725,
   "metadata": {
    "collapsed": false,
    "scrolled": true
   },
   "outputs": [
    {
     "name": "stdout",
     "output_type": "stream",
     "text": [
      "326.187469959\n"
     ]
    }
   ],
   "source": [
    "# this is going to be an object keyed on sequence,sefer,perek,pasuk. it will be aggregated by perek later\n",
    "sequencecountsbypasuk = {}\n",
    "\n",
    "start = time.time()\n",
    "tree = getcounts('', [])\n",
    "print time.time() - start"
   ]
  },
  {
   "cell_type": "code",
   "execution_count": 395,
   "metadata": {
    "collapsed": false
   },
   "outputs": [
    {
     "data": {
      "text/plain": [
       "92"
      ]
     },
     "execution_count": 395,
     "metadata": {},
     "output_type": "execute_result"
    }
   ],
   "source": [
    "tree['munakh']['children']['revii']['children']['pashta']['children']['katan']['count']"
   ]
  },
  {
   "cell_type": "code",
   "execution_count": 333,
   "metadata": {
    "collapsed": false
   },
   "outputs": [
    {
     "data": {
      "text/plain": [
       "192"
      ]
     },
     "execution_count": 333,
     "metadata": {},
     "output_type": "execute_result"
    }
   ],
   "source": [
    "sum([len(tropstrings[s]) for s in tropstrings])"
   ]
  },
  {
   "cell_type": "markdown",
   "metadata": {},
   "source": [
    "### Output the json"
   ]
  },
  {
   "cell_type": "code",
   "execution_count": 431,
   "metadata": {
    "collapsed": false
   },
   "outputs": [],
   "source": [
    "with open('sequencetree-d3format.json', 'wb') as outfile:\n",
    "    json.dump(tree, outfile)"
   ]
  },
  {
   "cell_type": "markdown",
   "metadata": {},
   "source": [
    "## Sources"
   ]
  },
  {
   "cell_type": "code",
   "execution_count": 451,
   "metadata": {
    "collapsed": false
   },
   "outputs": [],
   "source": [
    "import pandas as pd"
   ]
  },
  {
   "cell_type": "code",
   "execution_count": 466,
   "metadata": {
    "collapsed": true
   },
   "outputs": [],
   "source": [
    "sfarim = ['bereshit', 'shmot', 'vayikra', 'bmidbar', 'dvarim']"
   ]
  },
  {
   "cell_type": "code",
   "execution_count": 726,
   "metadata": {
    "collapsed": false
   },
   "outputs": [],
   "source": [
    "flatcounts = [{'seq': seq, 'sefer': sefer, 'perek': perek, 'pasuk': pasuk, 'count': sequencecountsbypasuk[seq][sefer][perek][pasuk]} for seq in sequencecountsbypasuk for sefer in sequencecountsbypasuk[seq] for perek in sequencecountsbypasuk[seq][sefer] for pasuk in sequencecountsbypasuk[seq][sefer][perek]]\n",
    "df = pd.DataFrame(flatcounts)\n",
    "df.set_index(['seq', 'sefer', 'perek', 'pasuk'], inplace=True)\n",
    "df = df.reindex(sfarim, level=1)"
   ]
  },
  {
   "cell_type": "code",
   "execution_count": 661,
   "metadata": {
    "collapsed": false
   },
   "outputs": [],
   "source": [
    "flatlengths = [{'sefer': sefer, 'perek': perek, 'pasuk': pasuk, 'length': lengths[sefer][perek][pasuk]} for sefer in lengths for perek in lengths[sefer] for pasuk in lengths[sefer][perek]]\n",
    "lengthsdf = pd.DataFrame(flatlengths)\n",
    "lengthsdf.set_index(['sefer', 'perek', 'pasuk'], inplace=True)\n",
    "lengthsdf = lengthsdf.reindex(sfarim, level=0)"
   ]
  },
  {
   "cell_type": "code",
   "execution_count": 711,
   "metadata": {
    "collapsed": false,
    "scrolled": true
   },
   "outputs": [],
   "source": [
    "pereklengths = lengthsdf.groupby(level=['sefer','perek']).aggregate(sum)"
   ]
  },
  {
   "cell_type": "code",
   "execution_count": 727,
   "metadata": {
    "collapsed": false
   },
   "outputs": [],
   "source": [
    "byperek = df.groupby(level=['seq','sefer','perek']).aggregate(sum)"
   ]
  },
  {
   "cell_type": "code",
   "execution_count": 665,
   "metadata": {
    "collapsed": false
   },
   "outputs": [],
   "source": [
    "# byperek['totaltrop'] = pereklengths"
   ]
  },
  {
   "cell_type": "code",
   "execution_count": 652,
   "metadata": {
    "collapsed": false
   },
   "outputs": [],
   "source": [
    "# byperek['norm'] = byperek['count']/byperek['totaltrop']"
   ]
  },
  {
   "cell_type": "code",
   "execution_count": 713,
   "metadata": {
    "collapsed": false,
    "scrolled": true
   },
   "outputs": [
    {
     "data": {
      "text/plain": [
       "[{'count': 2, 'index': 'bereshit,1', 'norm': 0.005434782608695652},\n",
       " {'count': 1, 'index': 'bereshit,6', 'norm': 0.0038314176245210726},\n",
       " {'count': 1, 'index': 'bereshit,15', 'norm': 0.004405286343612335},\n",
       " {'count': 1, 'index': 'bereshit,16', 'norm': 0.005050505050505051},\n",
       " {'count': 2, 'index': 'bereshit,17', 'norm': 0.006230529595015576},\n",
       " {'count': 1, 'index': 'bereshit,18', 'norm': 0.0024630541871921183},\n",
       " {'count': 1, 'index': 'bereshit,19', 'norm': 0.002079002079002079},\n",
       " {'count': 1, 'index': 'bereshit,20', 'norm': 0.004166666666666667},\n",
       " {'count': 1, 'index': 'bereshit,22', 'norm': 0.003289473684210526},\n",
       " {'count': 1, 'index': 'bereshit,23', 'norm': 0.004366812227074236},\n",
       " {'count': 1, 'index': 'bereshit,26', 'norm': 0.002386634844868735},\n",
       " {'count': 1, 'index': 'bereshit,29', 'norm': 0.0024330900243309003},\n",
       " {'count': 1, 'index': 'bereshit,30', 'norm': 0.0020325203252032522},\n",
       " {'count': 1, 'index': 'bereshit,31', 'norm': 0.0015037593984962407},\n",
       " {'count': 1, 'index': 'bereshit,33', 'norm': 0.004424778761061947},\n",
       " {'count': 1, 'index': 'bereshit,35', 'norm': 0.0029585798816568047},\n",
       " {'count': 1, 'index': 'bereshit,37', 'norm': 0.002304147465437788},\n",
       " {'count': 1, 'index': 'bereshit,39', 'norm': 0.003289473684210526},\n",
       " {'count': 1, 'index': 'bereshit,40', 'norm': 0.0036101083032490976},\n",
       " {'count': 1, 'index': 'bereshit,41', 'norm': 0.0014792899408284023},\n",
       " {'count': 1, 'index': 'bereshit,42', 'norm': 0.0021413276231263384},\n",
       " {'count': 1, 'index': 'bereshit,43', 'norm': 0.0022675736961451248},\n",
       " {'count': 2, 'index': 'bereshit,47', 'norm': 0.004464285714285714},\n",
       " {'count': 2, 'index': 'bereshit,48', 'norm': 0.006514657980456026},\n",
       " {'count': 1, 'index': 'shmot,3', 'norm': 0.0028653295128939827},\n",
       " {'count': 1, 'index': 'shmot,7', 'norm': 0.002881844380403458},\n",
       " {'count': 2, 'index': 'shmot,9', 'norm': 0.0045351473922902496},\n",
       " {'count': 1, 'index': 'shmot,12', 'norm': 0.0015600624024961},\n",
       " {'count': 2, 'index': 'shmot,13', 'norm': 0.006896551724137931},\n",
       " {'count': 1, 'index': 'shmot,14', 'norm': 0.002457002457002457},\n",
       " {'count': 2, 'index': 'shmot,15', 'norm': 0.00684931506849315},\n",
       " {'count': 2, 'index': 'shmot,16', 'norm': 0.0041841004184100415},\n",
       " {'count': 1, 'index': 'shmot,17', 'norm': 0.004672897196261682},\n",
       " {'count': 1, 'index': 'shmot,24', 'norm': 0.004484304932735426},\n",
       " {'count': 1, 'index': 'shmot,28', 'norm': 0.00196078431372549},\n",
       " {'count': 1, 'index': 'shmot,31', 'norm': 0.005208333333333333},\n",
       " {'count': 1, 'index': 'shmot,32', 'norm': 0.0020242914979757085},\n",
       " {'count': 1, 'index': 'shmot,33', 'norm': 0.003278688524590164},\n",
       " {'count': 2, 'index': 'shmot,34', 'norm': 0.004338394793926247},\n",
       " {'count': 1, 'index': 'shmot,36', 'norm': 0.0021321961620469083},\n",
       " {'count': 1, 'index': 'vayikra,1', 'norm': 0.004807692307692308},\n",
       " {'count': 2, 'index': 'vayikra,5', 'norm': 0.005361930294906166},\n",
       " {'count': 1, 'index': 'vayikra,7', 'norm': 0.002364066193853428},\n",
       " {'count': 1, 'index': 'vayikra,10', 'norm': 0.003436426116838488},\n",
       " {'count': 1, 'index': 'vayikra,11', 'norm': 0.002028397565922921},\n",
       " {'count': 3, 'index': 'vayikra,14', 'norm': 0.004373177842565598},\n",
       " {'count': 3, 'index': 'vayikra,19', 'norm': 0.007978723404255319},\n",
       " {'count': 1, 'index': 'vayikra,20', 'norm': 0.00273224043715847},\n",
       " {'count': 3, 'index': 'vayikra,22', 'norm': 0.00804289544235925},\n",
       " {'count': 1, 'index': 'vayikra,23', 'norm': 0.0018552875695732839},\n",
       " {'count': 1, 'index': 'vayikra,26', 'norm': 0.001949317738791423},\n",
       " {'count': 2, 'index': 'vayikra,27', 'norm': 0.00510204081632653},\n",
       " {'count': 1, 'index': 'bmidbar,2', 'norm': 0.003246753246753247},\n",
       " {'count': 1, 'index': 'bmidbar,4', 'norm': 0.0017667844522968198},\n",
       " {'count': 1, 'index': 'bmidbar,5', 'norm': 0.0025252525252525255},\n",
       " {'count': 1, 'index': 'bmidbar,7', 'norm': 0.0010615711252653928},\n",
       " {'count': 1, 'index': 'bmidbar,11', 'norm': 0.0020408163265306124},\n",
       " {'count': 2, 'index': 'bmidbar,13', 'norm': 0.005952380952380952},\n",
       " {'count': 2, 'index': 'bmidbar,19', 'norm': 0.006756756756756757},\n",
       " {'count': 1, 'index': 'bmidbar,22', 'norm': 0.0017452006980802793},\n",
       " {'count': 1, 'index': 'bmidbar,24', 'norm': 0.0035714285714285713},\n",
       " {'count': 3, 'index': 'bmidbar,26', 'norm': 0.0046801872074883},\n",
       " {'count': 2, 'index': 'bmidbar,28', 'norm': 0.006024096385542169},\n",
       " {'count': 3, 'index': 'bmidbar,31', 'norm': 0.0052173913043478265},\n",
       " {'count': 2, 'index': 'bmidbar,33', 'norm': 0.0047169811320754715},\n",
       " {'count': 1, 'index': 'dvarim,1', 'norm': 0.0016750418760469012},\n",
       " {'count': 3, 'index': 'dvarim,3', 'norm': 0.007556675062972292},\n",
       " {'count': 2, 'index': 'dvarim,5', 'norm': 0.004140786749482402},\n",
       " {'count': 1, 'index': 'dvarim,7', 'norm': 0.00273224043715847},\n",
       " {'count': 1, 'index': 'dvarim,8', 'norm': 0.0038314176245210726},\n",
       " {'count': 2, 'index': 'dvarim,9', 'norm': 0.004405286343612335},\n",
       " {'count': 1, 'index': 'dvarim,12', 'norm': 0.002207505518763797},\n",
       " {'count': 1, 'index': 'dvarim,13', 'norm': 0.0035335689045936395},\n",
       " {'count': 1, 'index': 'dvarim,14', 'norm': 0.0031645569620253164},\n",
       " {'count': 1, 'index': 'dvarim,17', 'norm': 0.0031545741324921135},\n",
       " {'count': 1, 'index': 'dvarim,19', 'norm': 0.003401360544217687},\n",
       " {'count': 1, 'index': 'dvarim,20', 'norm': 0.0037174721189591076},\n",
       " {'count': 1, 'index': 'dvarim,26', 'norm': 0.0034965034965034965},\n",
       " {'count': 1, 'index': 'dvarim,31', 'norm': 0.0021008403361344537}]"
      ]
     },
     "execution_count": 713,
     "metadata": {},
     "output_type": "execute_result"
    }
   ],
   "source": [
    "bypereklist = []\n",
    "for row in byperek.loc['revii,merkha'].iterrows():\n",
    "    bypereklist.append({'index': row[0][0] + ',' + str(row[0][1]), 'count': row[1]['count'], 'norm': float(row[1]['count'])/pereklengths.loc[row[0][0],row[0][1]]['length']})\n",
    "bypereklist"
   ]
  },
  {
   "cell_type": "code",
   "execution_count": 578,
   "metadata": {
    "collapsed": false
   },
   "outputs": [],
   "source": [
    "# with open('byperek_munakhrevii.json', 'wb') as outfile:\n",
    "#     json.dump(bypereklist, outfile)"
   ]
  },
  {
   "cell_type": "code",
   "execution_count": 654,
   "metadata": {
    "collapsed": false,
    "scrolled": true
   },
   "outputs": [
    {
     "data": {
      "text/html": [
       "<div style=\"max-height:1000px;max-width:1500px;overflow:auto;\">\n",
       "<table border=\"1\" class=\"dataframe\">\n",
       "  <thead>\n",
       "    <tr style=\"text-align: right;\">\n",
       "      <th></th>\n",
       "      <th></th>\n",
       "      <th>count</th>\n",
       "      <th>totaltrop</th>\n",
       "      <th>norm</th>\n",
       "    </tr>\n",
       "    <tr>\n",
       "      <th>sefer</th>\n",
       "      <th>perek</th>\n",
       "      <th></th>\n",
       "      <th></th>\n",
       "      <th></th>\n",
       "    </tr>\n",
       "  </thead>\n",
       "  <tbody>\n",
       "    <tr>\n",
       "      <th rowspan=\"18\" valign=\"top\">bereshit</th>\n",
       "      <th>11</th>\n",
       "      <td>1</td>\n",
       "      <td>18</td>\n",
       "      <td>0.055556</td>\n",
       "    </tr>\n",
       "    <tr>\n",
       "      <th>18</th>\n",
       "      <td>1</td>\n",
       "      <td>16</td>\n",
       "      <td>0.062500</td>\n",
       "    </tr>\n",
       "    <tr>\n",
       "      <th>19</th>\n",
       "      <td>1</td>\n",
       "      <td>19</td>\n",
       "      <td>0.052632</td>\n",
       "    </tr>\n",
       "    <tr>\n",
       "      <th>20</th>\n",
       "      <td>1</td>\n",
       "      <td>20</td>\n",
       "      <td>0.050000</td>\n",
       "    </tr>\n",
       "    <tr>\n",
       "      <th>26</th>\n",
       "      <td>2</td>\n",
       "      <td>35</td>\n",
       "      <td>0.057143</td>\n",
       "    </tr>\n",
       "    <tr>\n",
       "      <th>27</th>\n",
       "      <td>2</td>\n",
       "      <td>39</td>\n",
       "      <td>0.051282</td>\n",
       "    </tr>\n",
       "    <tr>\n",
       "      <th>28</th>\n",
       "      <td>1</td>\n",
       "      <td>21</td>\n",
       "      <td>0.047619</td>\n",
       "    </tr>\n",
       "    <tr>\n",
       "      <th>29</th>\n",
       "      <td>1</td>\n",
       "      <td>14</td>\n",
       "      <td>0.071429</td>\n",
       "    </tr>\n",
       "    <tr>\n",
       "      <th>30</th>\n",
       "      <td>1</td>\n",
       "      <td>16</td>\n",
       "      <td>0.062500</td>\n",
       "    </tr>\n",
       "    <tr>\n",
       "      <th>32</th>\n",
       "      <td>1</td>\n",
       "      <td>13</td>\n",
       "      <td>0.076923</td>\n",
       "    </tr>\n",
       "    <tr>\n",
       "      <th>34</th>\n",
       "      <td>1</td>\n",
       "      <td>18</td>\n",
       "      <td>0.055556</td>\n",
       "    </tr>\n",
       "    <tr>\n",
       "      <th>35</th>\n",
       "      <td>1</td>\n",
       "      <td>17</td>\n",
       "      <td>0.058824</td>\n",
       "    </tr>\n",
       "    <tr>\n",
       "      <th>38</th>\n",
       "      <td>1</td>\n",
       "      <td>16</td>\n",
       "      <td>0.062500</td>\n",
       "    </tr>\n",
       "    <tr>\n",
       "      <th>42</th>\n",
       "      <td>3</td>\n",
       "      <td>50</td>\n",
       "      <td>0.060000</td>\n",
       "    </tr>\n",
       "    <tr>\n",
       "      <th>43</th>\n",
       "      <td>2</td>\n",
       "      <td>49</td>\n",
       "      <td>0.040816</td>\n",
       "    </tr>\n",
       "    <tr>\n",
       "      <th>45</th>\n",
       "      <td>1</td>\n",
       "      <td>19</td>\n",
       "      <td>0.052632</td>\n",
       "    </tr>\n",
       "    <tr>\n",
       "      <th>47</th>\n",
       "      <td>2</td>\n",
       "      <td>37</td>\n",
       "      <td>0.054054</td>\n",
       "    </tr>\n",
       "    <tr>\n",
       "      <th>50</th>\n",
       "      <td>2</td>\n",
       "      <td>41</td>\n",
       "      <td>0.048780</td>\n",
       "    </tr>\n",
       "    <tr>\n",
       "      <th rowspan=\"12\" valign=\"top\">shmot</th>\n",
       "      <th>3</th>\n",
       "      <td>1</td>\n",
       "      <td>17</td>\n",
       "      <td>0.058824</td>\n",
       "    </tr>\n",
       "    <tr>\n",
       "      <th>4</th>\n",
       "      <td>1</td>\n",
       "      <td>19</td>\n",
       "      <td>0.052632</td>\n",
       "    </tr>\n",
       "    <tr>\n",
       "      <th>6</th>\n",
       "      <td>1</td>\n",
       "      <td>18</td>\n",
       "      <td>0.055556</td>\n",
       "    </tr>\n",
       "    <tr>\n",
       "      <th>7</th>\n",
       "      <td>1</td>\n",
       "      <td>23</td>\n",
       "      <td>0.043478</td>\n",
       "    </tr>\n",
       "    <tr>\n",
       "      <th>10</th>\n",
       "      <td>2</td>\n",
       "      <td>30</td>\n",
       "      <td>0.066667</td>\n",
       "    </tr>\n",
       "    <tr>\n",
       "      <th>11</th>\n",
       "      <td>1</td>\n",
       "      <td>20</td>\n",
       "      <td>0.050000</td>\n",
       "    </tr>\n",
       "    <tr>\n",
       "      <th>12</th>\n",
       "      <td>2</td>\n",
       "      <td>34</td>\n",
       "      <td>0.058824</td>\n",
       "    </tr>\n",
       "    <tr>\n",
       "      <th>13</th>\n",
       "      <td>2</td>\n",
       "      <td>45</td>\n",
       "      <td>0.044444</td>\n",
       "    </tr>\n",
       "    <tr>\n",
       "      <th>16</th>\n",
       "      <td>1</td>\n",
       "      <td>25</td>\n",
       "      <td>0.040000</td>\n",
       "    </tr>\n",
       "    <tr>\n",
       "      <th>20</th>\n",
       "      <td>1</td>\n",
       "      <td>29</td>\n",
       "      <td>0.034483</td>\n",
       "    </tr>\n",
       "    <tr>\n",
       "      <th>26</th>\n",
       "      <td>2</td>\n",
       "      <td>33</td>\n",
       "      <td>0.060606</td>\n",
       "    </tr>\n",
       "    <tr>\n",
       "      <th>28</th>\n",
       "      <td>1</td>\n",
       "      <td>20</td>\n",
       "      <td>0.050000</td>\n",
       "    </tr>\n",
       "    <tr>\n",
       "      <th>...</th>\n",
       "      <th>...</th>\n",
       "      <td>...</td>\n",
       "      <td>...</td>\n",
       "      <td>...</td>\n",
       "    </tr>\n",
       "    <tr>\n",
       "      <th rowspan=\"13\" valign=\"top\">bmidbar</th>\n",
       "      <th>13</th>\n",
       "      <td>1</td>\n",
       "      <td>26</td>\n",
       "      <td>0.038462</td>\n",
       "    </tr>\n",
       "    <tr>\n",
       "      <th>14</th>\n",
       "      <td>1</td>\n",
       "      <td>17</td>\n",
       "      <td>0.058824</td>\n",
       "    </tr>\n",
       "    <tr>\n",
       "      <th>15</th>\n",
       "      <td>1</td>\n",
       "      <td>22</td>\n",
       "      <td>0.045455</td>\n",
       "    </tr>\n",
       "    <tr>\n",
       "      <th>16</th>\n",
       "      <td>3</td>\n",
       "      <td>43</td>\n",
       "      <td>0.069767</td>\n",
       "    </tr>\n",
       "    <tr>\n",
       "      <th>17</th>\n",
       "      <td>3</td>\n",
       "      <td>65</td>\n",
       "      <td>0.046154</td>\n",
       "    </tr>\n",
       "    <tr>\n",
       "      <th>19</th>\n",
       "      <td>1</td>\n",
       "      <td>21</td>\n",
       "      <td>0.047619</td>\n",
       "    </tr>\n",
       "    <tr>\n",
       "      <th>24</th>\n",
       "      <td>1</td>\n",
       "      <td>15</td>\n",
       "      <td>0.066667</td>\n",
       "    </tr>\n",
       "    <tr>\n",
       "      <th>26</th>\n",
       "      <td>1</td>\n",
       "      <td>17</td>\n",
       "      <td>0.058824</td>\n",
       "    </tr>\n",
       "    <tr>\n",
       "      <th>27</th>\n",
       "      <td>1</td>\n",
       "      <td>16</td>\n",
       "      <td>0.062500</td>\n",
       "    </tr>\n",
       "    <tr>\n",
       "      <th>28</th>\n",
       "      <td>1</td>\n",
       "      <td>19</td>\n",
       "      <td>0.052632</td>\n",
       "    </tr>\n",
       "    <tr>\n",
       "      <th>31</th>\n",
       "      <td>1</td>\n",
       "      <td>14</td>\n",
       "      <td>0.071429</td>\n",
       "    </tr>\n",
       "    <tr>\n",
       "      <th>32</th>\n",
       "      <td>1</td>\n",
       "      <td>20</td>\n",
       "      <td>0.050000</td>\n",
       "    </tr>\n",
       "    <tr>\n",
       "      <th>35</th>\n",
       "      <td>1</td>\n",
       "      <td>24</td>\n",
       "      <td>0.041667</td>\n",
       "    </tr>\n",
       "    <tr>\n",
       "      <th rowspan=\"17\" valign=\"top\">dvarim</th>\n",
       "      <th>1</th>\n",
       "      <td>1</td>\n",
       "      <td>19</td>\n",
       "      <td>0.052632</td>\n",
       "    </tr>\n",
       "    <tr>\n",
       "      <th>4</th>\n",
       "      <td>1</td>\n",
       "      <td>22</td>\n",
       "      <td>0.045455</td>\n",
       "    </tr>\n",
       "    <tr>\n",
       "      <th>5</th>\n",
       "      <td>3</td>\n",
       "      <td>82</td>\n",
       "      <td>0.036585</td>\n",
       "    </tr>\n",
       "    <tr>\n",
       "      <th>9</th>\n",
       "      <td>3</td>\n",
       "      <td>56</td>\n",
       "      <td>0.053571</td>\n",
       "    </tr>\n",
       "    <tr>\n",
       "      <th>11</th>\n",
       "      <td>1</td>\n",
       "      <td>21</td>\n",
       "      <td>0.047619</td>\n",
       "    </tr>\n",
       "    <tr>\n",
       "      <th>13</th>\n",
       "      <td>1</td>\n",
       "      <td>29</td>\n",
       "      <td>0.034483</td>\n",
       "    </tr>\n",
       "    <tr>\n",
       "      <th>14</th>\n",
       "      <td>2</td>\n",
       "      <td>43</td>\n",
       "      <td>0.046512</td>\n",
       "    </tr>\n",
       "    <tr>\n",
       "      <th>15</th>\n",
       "      <td>2</td>\n",
       "      <td>42</td>\n",
       "      <td>0.047619</td>\n",
       "    </tr>\n",
       "    <tr>\n",
       "      <th>18</th>\n",
       "      <td>1</td>\n",
       "      <td>19</td>\n",
       "      <td>0.052632</td>\n",
       "    </tr>\n",
       "    <tr>\n",
       "      <th>22</th>\n",
       "      <td>2</td>\n",
       "      <td>34</td>\n",
       "      <td>0.058824</td>\n",
       "    </tr>\n",
       "    <tr>\n",
       "      <th>24</th>\n",
       "      <td>1</td>\n",
       "      <td>16</td>\n",
       "      <td>0.062500</td>\n",
       "    </tr>\n",
       "    <tr>\n",
       "      <th>27</th>\n",
       "      <td>1</td>\n",
       "      <td>23</td>\n",
       "      <td>0.043478</td>\n",
       "    </tr>\n",
       "    <tr>\n",
       "      <th>28</th>\n",
       "      <td>3</td>\n",
       "      <td>64</td>\n",
       "      <td>0.046875</td>\n",
       "    </tr>\n",
       "    <tr>\n",
       "      <th>29</th>\n",
       "      <td>1</td>\n",
       "      <td>17</td>\n",
       "      <td>0.058824</td>\n",
       "    </tr>\n",
       "    <tr>\n",
       "      <th>30</th>\n",
       "      <td>2</td>\n",
       "      <td>26</td>\n",
       "      <td>0.076923</td>\n",
       "    </tr>\n",
       "    <tr>\n",
       "      <th>31</th>\n",
       "      <td>3</td>\n",
       "      <td>58</td>\n",
       "      <td>0.051724</td>\n",
       "    </tr>\n",
       "    <tr>\n",
       "      <th>32</th>\n",
       "      <td>1</td>\n",
       "      <td>19</td>\n",
       "      <td>0.052632</td>\n",
       "    </tr>\n",
       "  </tbody>\n",
       "</table>\n",
       "<p>76 rows × 3 columns</p>\n",
       "</div>"
      ],
      "text/plain": [
       "                count  totaltrop      norm\n",
       "sefer    perek                            \n",
       "bereshit 11         1         18  0.055556\n",
       "         18         1         16  0.062500\n",
       "         19         1         19  0.052632\n",
       "         20         1         20  0.050000\n",
       "         26         2         35  0.057143\n",
       "         27         2         39  0.051282\n",
       "         28         1         21  0.047619\n",
       "         29         1         14  0.071429\n",
       "         30         1         16  0.062500\n",
       "         32         1         13  0.076923\n",
       "         34         1         18  0.055556\n",
       "         35         1         17  0.058824\n",
       "         38         1         16  0.062500\n",
       "         42         3         50  0.060000\n",
       "         43         2         49  0.040816\n",
       "         45         1         19  0.052632\n",
       "         47         2         37  0.054054\n",
       "         50         2         41  0.048780\n",
       "shmot    3          1         17  0.058824\n",
       "         4          1         19  0.052632\n",
       "         6          1         18  0.055556\n",
       "         7          1         23  0.043478\n",
       "         10         2         30  0.066667\n",
       "         11         1         20  0.050000\n",
       "         12         2         34  0.058824\n",
       "         13         2         45  0.044444\n",
       "         16         1         25  0.040000\n",
       "         20         1         29  0.034483\n",
       "         26         2         33  0.060606\n",
       "         28         1         20  0.050000\n",
       "...               ...        ...       ...\n",
       "bmidbar  13         1         26  0.038462\n",
       "         14         1         17  0.058824\n",
       "         15         1         22  0.045455\n",
       "         16         3         43  0.069767\n",
       "         17         3         65  0.046154\n",
       "         19         1         21  0.047619\n",
       "         24         1         15  0.066667\n",
       "         26         1         17  0.058824\n",
       "         27         1         16  0.062500\n",
       "         28         1         19  0.052632\n",
       "         31         1         14  0.071429\n",
       "         32         1         20  0.050000\n",
       "         35         1         24  0.041667\n",
       "dvarim   1          1         19  0.052632\n",
       "         4          1         22  0.045455\n",
       "         5          3         82  0.036585\n",
       "         9          3         56  0.053571\n",
       "         11         1         21  0.047619\n",
       "         13         1         29  0.034483\n",
       "         14         2         43  0.046512\n",
       "         15         2         42  0.047619\n",
       "         18         1         19  0.052632\n",
       "         22         2         34  0.058824\n",
       "         24         1         16  0.062500\n",
       "         27         1         23  0.043478\n",
       "         28         3         64  0.046875\n",
       "         29         1         17  0.058824\n",
       "         30         2         26  0.076923\n",
       "         31         3         58  0.051724\n",
       "         32         1         19  0.052632\n",
       "\n",
       "[76 rows x 3 columns]"
      ]
     },
     "execution_count": 654,
     "metadata": {},
     "output_type": "execute_result"
    }
   ],
   "source": [
    "byperek.loc['revii,munakh']"
   ]
  },
  {
   "cell_type": "markdown",
   "metadata": {},
   "source": [
    "I really wish I understood why byperek.index.levels[0], sequencecountsbypasuk.keys(), and the 'seq' element of flatcounts are all different. Suspicious."
   ]
  },
  {
   "cell_type": "code",
   "execution_count": 728,
   "metadata": {
    "collapsed": false
   },
   "outputs": [],
   "source": [
    "for seq in byperek.index.levels[0]:\n",
    "    bypereklist = []\n",
    "    for row in byperek.loc[seq].iterrows():\n",
    "        bypereklist.append({'index': row[0][0] + ',' + str(row[0][1]), 'count': row[1]['count'], 'norm': float(row[1]['count'])/pereklengths.loc[row[0][0],row[0][1]]['length']})\n",
    "    with open('treeviz/byperek/byperek_' + seq.replace(',', '') + '.json', 'wb') as outfile:\n",
    "        json.dump(bypereklist, outfile)"
   ]
  }
 ],
 "metadata": {
  "kernelspec": {
   "display_name": "Python 2",
   "language": "python",
   "name": "python2"
  },
  "language_info": {
   "codemirror_mode": {
    "name": "ipython",
    "version": 2
   },
   "file_extension": ".py",
   "mimetype": "text/x-python",
   "name": "python",
   "nbconvert_exporter": "python",
   "pygments_lexer": "ipython2",
   "version": "2.7.9"
  }
 },
 "nbformat": 4,
 "nbformat_minor": 0
}
