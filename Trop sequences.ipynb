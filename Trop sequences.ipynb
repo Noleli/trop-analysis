{
 "cells": [
  {
   "cell_type": "code",
   "execution_count": 1,
   "metadata": {
    "collapsed": false
   },
   "outputs": [
    {
     "name": "stdout",
     "output_type": "stream",
     "text": [
      "Populating the interactive namespace from numpy and matplotlib\n"
     ]
    }
   ],
   "source": [
    "%pylab inline"
   ]
  },
  {
   "cell_type": "code",
   "execution_count": 5,
   "metadata": {
    "collapsed": true
   },
   "outputs": [],
   "source": [
    "import re\n",
    "import xml.etree.ElementTree as ET"
   ]
  },
  {
   "cell_type": "code",
   "execution_count": 34,
   "metadata": {
    "collapsed": false
   },
   "outputs": [],
   "source": [
    "tropnames = {'etnakhta': u'\\u0591', 'segol': u'\\u0592', 'shalshelet': u'\\u0593', 'katan': u'\\u0594', 'gadol': u'\\u0595',\n",
    "             'tipkha': u'\\u0596', 'revii': u'\\u0597', 'tsinnorit': u'\\u0598', 'pashta': u'\\u0599', 'yetiv': u'\\u059a', 'tevir': u'\\u059b',\n",
    "             'geresh': u'\\u059c', 'gereshmukdam': u'\\u059d', 'gershayim': u'\\u059e', 'karnepara': u'\\u059f', 'telishagedola': u'\\u05a0',\n",
    "             'pazer': u'\\u05a1', 'munakh': u'\\u05a3', 'mapakh': u'\\u05a4', 'merkha': u'\\u05a5',\n",
    "             'merkhakfula': u'\\u05a6', 'darga': u'\\u05a7', 'kadma': u'\\u05a8', 'telishaketana': u'\\u05a9', 'yerakhbenyomo': u'\\u05aa',\n",
    "             'sofpasuk': u'\\u05c3', 'zarka': u'\\u05ae'}\n",
    "\n",
    "# per wikipedia: Note that both marks have been wrongly named by Unicode.[5][6] Zarqa/tsinnor corresponds to Unicode\n",
    "# \"Hebrew accent zinor\", code point U+05AE (where \"zinor\" is a misspelled form for tsinnor), while tsinnorit maps to\n",
    "# \"Hebrew accent zarqa\", code point U+0598. \n",
    "\n",
    "tropchars = {tropnames[t]: t for t in tropnames}"
   ]
  },
  {
   "cell_type": "code",
   "execution_count": 160,
   "metadata": {
    "collapsed": false
   },
   "outputs": [],
   "source": [
    "sfarim = ['bereshit', 'shmot', 'vayikra', 'bmidbar', 'dvarim']\n",
    "\n",
    "tropstrings = {}\n",
    "for sefer in sfarim:\n",
    "    tropstrings[sefer] = {}\n",
    "    tree = ET.parse(sefer + '.xml')\n",
    "    root = tree.getroot() \n",
    "    prakim = root.findall('.//c')\n",
    "    for perek in prakim:\n",
    "        pereknum = int(perek.attrib['n'])\n",
    "        if pereknum not in tropstrings[sefer]: tropstrings[sefer][pereknum] = {}\n",
    "        psukim = perek.findall('v')\n",
    "        for pasuk in psukim:\n",
    "            pasuknum = int(pasuk.attrib['n'])\n",
    "            if pasuknum not in tropstrings[sefer][pereknum]:\n",
    "                # row = {name: 0 for name in tropnames.keys()}\n",
    "                # row['sefer'] = sefer\n",
    "                # row['pasuk'] = pasuknum\n",
    "                # row['perek'] = pereknum\n",
    "                tropstrings[sefer][pereknum][pasuknum] = ''\n",
    "            words = pasuk.findall('w')\n",
    "            wordslist = map(lambda w: list(w.text), words)\n",
    "            troplist = map(lambda w: filter(lambda c: c in tropchars, w), wordslist)\n",
    "            troplist = filter(lambda w: len(w) > 0, troplist)\n",
    "            # there's probably a better way to do this, but I can't think of it\n",
    "            flattroplist = []\n",
    "            for w in troplist:\n",
    "                for c in w:\n",
    "                    flattroplist.append(c)\n",
    "            tropstrings[sefer][pereknum][pasuknum] += ''.join(flattroplist)"
   ]
  },
  {
   "cell_type": "code",
   "execution_count": 161,
   "metadata": {
    "collapsed": false
   },
   "outputs": [
    {
     "data": {
      "text/plain": [
       "u'\\u059b\\u05a5\\u0596\\u05a3\\u0591\\u059b\\u05a5\\u0596\\u05a5\\u05c3'"
      ]
     },
     "execution_count": 161,
     "metadata": {},
     "output_type": "execute_result"
    }
   ],
   "source": [
    "tropstrings['dvarim'][20][9]"
   ]
  }
 ],
 "metadata": {
  "kernelspec": {
   "display_name": "Python 2",
   "language": "python",
   "name": "python2"
  },
  "language_info": {
   "codemirror_mode": {
    "name": "ipython",
    "version": 2
   },
   "file_extension": ".py",
   "mimetype": "text/x-python",
   "name": "python",
   "nbconvert_exporter": "python",
   "pygments_lexer": "ipython2",
   "version": "2.7.9"
  }
 },
 "nbformat": 4,
 "nbformat_minor": 0
}
