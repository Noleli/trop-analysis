{
 "cells": [
  {
   "cell_type": "code",
   "execution_count": 1,
   "metadata": {
    "collapsed": false
   },
   "outputs": [
    {
     "name": "stdout",
     "output_type": "stream",
     "text": [
      "Populating the interactive namespace from numpy and matplotlib\n"
     ]
    }
   ],
   "source": [
    "%pylab inline\n",
    "## -*- coding: utf-8 -*-"
   ]
  },
  {
   "cell_type": "code",
   "execution_count": 2,
   "metadata": {
    "collapsed": false
   },
   "outputs": [],
   "source": [
    "import re\n",
    "import json\n",
    "import time\n",
    "import copy\n",
    "import xml.etree.ElementTree as ET"
   ]
  },
  {
   "cell_type": "code",
   "execution_count": 3,
   "metadata": {
    "collapsed": false
   },
   "outputs": [],
   "source": [
    "tropnames = {'etnakhta': u'\\u0591', 'segol': u'\\u0592', 'shalshelet': u'\\u0593', 'katan': u'\\u0594', 'gadol': u'\\u0595',\n",
    "             'tipkha': u'\\u0596', 'revii': u'\\u0597', 'tsinnorit': u'\\u0598', 'pashta': u'\\u0599', 'yetiv': u'\\u059a', 'tevir': u'\\u059b',\n",
    "             'geresh': u'\\u059c', 'gereshmukdam': u'\\u059d', 'gershayim': u'\\u059e', 'karnepara': u'\\u059f', 'telishagedola': u'\\u05a0',\n",
    "             'pazer': u'\\u05a1', 'munakh': u'\\u05a3', 'mapakh': u'\\u05a4', 'merkha': u'\\u05a5',\n",
    "             'merkhakfula': u'\\u05a6', 'darga': u'\\u05a7', 'kadma': u'\\u05a8', 'telishaketana': u'\\u05a9', 'yerakhbenyomo': u'\\u05aa',\n",
    "             'sofpasuk': u'\\u05c3', 'zarka': u'\\u05ae'}\n",
    "\n",
    "# sof pasuk is U+05C3, siluk is U+05BD\n",
    "\n",
    "# per wikipedia: Note that both marks have been wrongly named by Unicode.[5][6] Zarqa/tsinnor corresponds to Unicode\n",
    "# \"Hebrew accent zinor\", code point U+05AE (where \"zinor\" is a misspelled form for tsinnor), while tsinnorit maps to\n",
    "# \"Hebrew accent zarqa\", code point U+0598. \n",
    "\n",
    "tropchars = {tropnames[t]: t for t in tropnames}"
   ]
  },
  {
   "cell_type": "markdown",
   "metadata": {},
   "source": [
    "## Parse"
   ]
  },
  {
   "cell_type": "code",
   "execution_count": 54,
   "metadata": {
    "collapsed": false
   },
   "outputs": [],
   "source": [
    "sfarim = ['bereshit', 'shmot', 'vayikra', 'bmidbar', 'dvarim']\n",
    "\n",
    "tropstrings = {}\n",
    "\n",
    "for sefer in sfarim:\n",
    "    tropstrings[sefer] = {}\n",
    "    tree = ET.parse(sefer + '.xml')\n",
    "    root = tree.getroot() \n",
    "    prakim = root.findall('.//c')\n",
    "    for perek in prakim:\n",
    "        pereknum = int(perek.attrib['n'])\n",
    "        if pereknum not in tropstrings[sefer]: tropstrings[sefer][pereknum] = {}\n",
    "        psukim = perek.findall('v')\n",
    "        for pasuk in psukim:\n",
    "            pasuknum = int(pasuk.attrib['n'])\n",
    "            if pasuknum not in tropstrings[sefer][pereknum]:\n",
    "                # row = {name: 0 for name in tropnames.keys()}\n",
    "                # row['sefer'] = sefer\n",
    "                # row['pasuk'] = pasuknum\n",
    "                # row['perek'] = pereknum\n",
    "                tropstrings[sefer][pereknum][pasuknum] = ''\n",
    "#             words = pasuk.findall('w') # TODO: also look for <q> tags for qtiv\n",
    "            words = [w for w in pasuk if w.tag=='w' or w.tag=='q']\n",
    "            wordslist = map(lambda w: list(w.text), words)\n",
    "#             if sefer == 'shmot' and pereknum == 2 and pasuknum == 5:\n",
    "#                 thewordlist = wordslist\n",
    "            troplist = map(lambda w: filter(lambda c: c in tropchars, w), wordslist)\n",
    "            # handle stress doublings\n",
    "            for w in troplist:\n",
    "                if len(w) == 2:\n",
    "                    if(w[0] == w[1]):\n",
    "                        del(w[1])\n",
    "            troplist = filter(lambda w: len(w) > 0, troplist)\n",
    "            # there's probably a better way to do this, but I can't think of it\n",
    "            flattroplist = []\n",
    "            for w in troplist:\n",
    "                for c in w:\n",
    "                    if c == tropnames['tsinnorit']: c = tropnames['zarka']\n",
    "                    if c == tropnames['gereshmukdam']: c = tropnames['geresh']\n",
    "                    flattroplist.append(c)\n",
    "#             if sefer == \"bereshit\" and pereknum == 2 and pasuknum == 4:\n",
    "#                 print flattroplist\n",
    "#             if flattroplist[-1] != tropnames['sofpasuk']:\n",
    "#                 print sefer, pereknum, pasuknum,flattroplist\n",
    "            tropstrings[sefer][pereknum][pasuknum] += ''.join(flattroplist)"
   ]
  },
  {
   "cell_type": "markdown",
   "metadata": {},
   "source": [
    "## Build the tree (and the seqsearch helper)"
   ]
  },
  {
   "cell_type": "raw",
   "metadata": {
    "collapsed": false
   },
   "source": [
    "zeros = {s: {pe: {pa: 0 for pa in tropstrings[s][pe]} for pe in tropstrings[s]} for s in tropstrings}\n",
    "lengths = {s: {pe: {pa: len(tropstrings[s][pe][pa]) for pa in tropstrings[s][pe]} for pe in tropstrings[s]} for s in tropstrings}"
   ]
  },
  {
   "cell_type": "raw",
   "metadata": {
    "collapsed": false
   },
   "source": [
    "def seqsearch(seq, s):\n",
    "#     print len(sources)\n",
    "    seqcount = 0\n",
    "    \n",
    "    seqlist = ','.join(map(lambda c: tropchars[c], list(seq)))\n",
    "    if seqlist not in sequencecountsbypasuk:\n",
    "        sequencecountsbypasuk[seqlist] = {}\n",
    "        \n",
    "    if s != []:\n",
    "        newsources = []\n",
    "        for source in s:\n",
    "#             print sources\n",
    "            found = re.findall(seq, tropstrings[source[0]][source[1]][source[2]])\n",
    "            seqcount += len(found)\n",
    "            if len(found) > 0:\n",
    "                newsources.append(source)\n",
    "                \n",
    "                if source[0] not in sequencecountsbypasuk[seqlist]: sequencecountsbypasuk[seqlist][source[0]] = {}\n",
    "                if source[1] not in sequencecountsbypasuk[seqlist][source[0]]: sequencecountsbypasuk[seqlist][source[0]][source[1]] = {}\n",
    "#                 if source[2] not in sequencecountsbypasuk[seq][source[0]][source[1]]: sequencecountsbypasuk[seq][source[0]][source[1]][source[2]] = {}\n",
    "                sequencecountsbypasuk[seqlist][source[0]][source[1]][source[2]] = len(found)\n",
    "        if len(newsources) > 0: s = newsources\n",
    "    else:\n",
    "        for sefer in tropstrings:\n",
    "            for perek in tropstrings[sefer]:\n",
    "                for pasuk in tropstrings[sefer][perek]:\n",
    "                    found = re.findall(seq, tropstrings[sefer][perek][pasuk])\n",
    "                    seqcount += len(found)\n",
    "                    if len(found) > 0:\n",
    "                        s.append((sefer, perek, pasuk))\n",
    "                        \n",
    "                        if sefer not in sequencecountsbypasuk[seqlist]: sequencecountsbypasuk[seqlist][sefer] = {}\n",
    "                        if perek not in sequencecountsbypasuk[seqlist][sefer]: sequencecountsbypasuk[seqlist][sefer][perek] = {}\n",
    "#                         if pasuk not in sequencecountsbypasuk[seq][sefer][perek][pasuk]: sequencecountsbypasuk[seq][sefer][perek][pasuk] = {}\n",
    "                        sequencecountsbypasuk[seqlist][sefer][perek][pasuk] = len(found)\n",
    "    return (seqcount, s)"
   ]
  },
  {
   "cell_type": "raw",
   "metadata": {
    "collapsed": false
   },
   "source": [
    "map(lambda t: tropchars[t], tropstrings['bmidbar'][25][19])"
   ]
  },
  {
   "cell_type": "raw",
   "metadata": {
    "collapsed": true
   },
   "source": [
    "sequencecountsbypasuk = {}\n",
    "seqsearch(tropnames['zarka']+tropnames['munakh']+tropnames['segol'], [])"
   ]
  },
  {
   "cell_type": "raw",
   "metadata": {
    "collapsed": false
   },
   "source": [
    "def getcounts(seq, sources):\n",
    "    parent = []\n",
    "    for trop in tropnames:\n",
    "        thisseq = seq+tropnames[trop]\n",
    "#         seqlist = map(lambda c: tropchars[c], list(thisseq)) # for printing\n",
    "#         print \"Searching for \" + str(seqlist) + \" in \" + str(len(sources)) + \" psukim\"\n",
    "        seqcount, localsources = seqsearch(thisseq, copy.copy(sources))\n",
    "#         print \"Found \" + str(seqcount) + \" in \" + str(len(sources)) + \" psukim\"\n",
    "        if seqcount > 0:\n",
    "            parent.append({'name': tropchars[tropnames[trop]], 'char': tropnames[trop], 'count': seqcount});\n",
    "            parent[len(parent)-1]['children'] = getcounts(thisseq, localsources)\n",
    "#         sources = [] # if you finish all of the trop, go back to looking in all. stupid way to make this happen.\n",
    "    return parent"
   ]
  },
  {
   "cell_type": "raw",
   "metadata": {
    "collapsed": false,
    "scrolled": true
   },
   "source": [
    "# this is going to be an object keyed on sequence,sefer,perek,pasuk. it will be aggregated by perek later\n",
    "sequencecountsbypasuk = {}\n",
    "\n",
    "start = time.time()\n",
    "tree = getcounts('', [])\n",
    "print time.time() - start"
   ]
  },
  {
   "cell_type": "raw",
   "metadata": {
    "collapsed": false
   },
   "source": [
    "tree['munakh']['children']['revii']['children']['pashta']['children']['katan']['count']"
   ]
  },
  {
   "cell_type": "raw",
   "metadata": {
    "collapsed": false
   },
   "source": [
    "sum([len(tropstrings[s]) for s in tropstrings])"
   ]
  },
  {
   "cell_type": "markdown",
   "metadata": {},
   "source": [
    "### Output the json"
   ]
  },
  {
   "cell_type": "raw",
   "metadata": {
    "collapsed": false
   },
   "source": [
    "with open('sequencetree-d3format.json', 'wb') as outfile:\n",
    "    json.dump(tree, outfile)"
   ]
  },
  {
   "cell_type": "markdown",
   "metadata": {},
   "source": [
    "## Sources"
   ]
  },
  {
   "cell_type": "raw",
   "metadata": {
    "collapsed": false
   },
   "source": [
    "import pandas as pd"
   ]
  },
  {
   "cell_type": "raw",
   "metadata": {
    "collapsed": true
   },
   "source": [
    "sfarim = ['bereshit', 'shmot', 'vayikra', 'bmidbar', 'dvarim']"
   ]
  },
  {
   "cell_type": "raw",
   "metadata": {
    "collapsed": false
   },
   "source": [
    "flatcounts = [{'seq': seq, 'sefer': sefer, 'perek': perek, 'pasuk': pasuk, 'count': sequencecountsbypasuk[seq][sefer][perek][pasuk]} for seq in sequencecountsbypasuk for sefer in sequencecountsbypasuk[seq] for perek in sequencecountsbypasuk[seq][sefer] for pasuk in sequencecountsbypasuk[seq][sefer][perek]]\n",
    "df = pd.DataFrame(flatcounts)\n",
    "df.set_index(['seq', 'sefer', 'perek', 'pasuk'], inplace=True)\n",
    "df = df.reindex(sfarim, level=1)"
   ]
  },
  {
   "cell_type": "raw",
   "metadata": {
    "collapsed": false
   },
   "source": [
    "flatlengths = [{'sefer': sefer, 'perek': perek, 'pasuk': pasuk, 'length': lengths[sefer][perek][pasuk]} for sefer in lengths for perek in lengths[sefer] for pasuk in lengths[sefer][perek]]\n",
    "lengthsdf = pd.DataFrame(flatlengths)\n",
    "lengthsdf.set_index(['sefer', 'perek', 'pasuk'], inplace=True)\n",
    "lengthsdf = lengthsdf.reindex(sfarim, level=0)"
   ]
  },
  {
   "cell_type": "raw",
   "metadata": {
    "collapsed": false,
    "scrolled": true
   },
   "source": [
    "pereklengths = lengthsdf.groupby(level=['sefer','perek']).aggregate(sum)\n",
    "byperek = df.groupby(level=['seq','sefer','perek']).aggregate(sum)"
   ]
  },
  {
   "cell_type": "raw",
   "metadata": {
    "collapsed": false
   },
   "source": [
    "perekpasukcounts = lengthsdf.groupby(level=['sefer','perek']).aggregate(len)"
   ]
  },
  {
   "cell_type": "raw",
   "metadata": {
    "collapsed": false,
    "scrolled": true
   },
   "source": [
    "bypereklist = []\n",
    "for row in byperek.loc['revii,merkha'].iterrows():\n",
    "    bypereklist.append({'index': row[0][0] + ',' + str(row[0][1]), 'count': row[1]['count'], 'norm': float(row[1]['count'])/pereklengths.loc[row[0][0],row[0][1]]['length']})\n",
    "bypereklist"
   ]
  },
  {
   "cell_type": "raw",
   "metadata": {
    "collapsed": false
   },
   "source": [
    "# with open('byperek_munakhrevii.json', 'wb') as outfile:\n",
    "#     json.dump(bypereklist, outfile)"
   ]
  },
  {
   "cell_type": "markdown",
   "metadata": {},
   "source": [
    "I really wish I understood why byperek.index.levels[0], sequencecountsbypasuk.keys(), and the 'seq' element of flatcounts are all different. Suspicious."
   ]
  },
  {
   "cell_type": "raw",
   "metadata": {
    "collapsed": false
   },
   "source": [
    "sources = []\n",
    "for seq in byperek.index.levels[0]:\n",
    "    bypereklist = []\n",
    "    for row in byperek.loc[seq].iterrows():\n",
    "        bypereklist.append({'index': row[0][0] + ',' + str(row[0][1]), 'count': row[1]['count'], 'norm': float(row[1]['count'])/perekpasukcounts.loc[row[0][0],row[0][1]]['length']})\n",
    "#     with open('treeviz/byperek/byperek_' + seq.replace(',', '') + '.json', 'wb') as outfile:\n",
    "#         json.dump(bypereklist, outfile)\n",
    "    sources.append({'seq': seq, 'sources': bypereklist})"
   ]
  },
  {
   "cell_type": "raw",
   "metadata": {
    "collapsed": true
   },
   "source": [
    "with open('byperek_full.json', 'wb') as outfile:\n",
    "    json.dump(sources, outfile)"
   ]
  },
  {
   "cell_type": "markdown",
   "metadata": {},
   "source": [
    "## Make full index for sparse javascript array"
   ]
  },
  {
   "cell_type": "code",
   "execution_count": 743,
   "metadata": {
    "collapsed": false
   },
   "outputs": [],
   "source": [
    "indexstring = '[' + ','.join(['\"' + row[0][0] + ',' + str(row[0][1]) + '\"' for row in pereklengths.iterrows()]) + ']'"
   ]
  },
  {
   "cell_type": "code",
   "execution_count": 744,
   "metadata": {
    "collapsed": false
   },
   "outputs": [
    {
     "data": {
      "text/plain": [
       "'[\"bereshit,1\",\"bereshit,2\",\"bereshit,3\",\"bereshit,4\",\"bereshit,5\",\"bereshit,6\",\"bereshit,7\",\"bereshit,8\",\"bereshit,9\",\"bereshit,10\",\"bereshit,11\",\"bereshit,12\",\"bereshit,13\",\"bereshit,14\",\"bereshit,15\",\"bereshit,16\",\"bereshit,17\",\"bereshit,18\",\"bereshit,19\",\"bereshit,20\",\"bereshit,21\",\"bereshit,22\",\"bereshit,23\",\"bereshit,24\",\"bereshit,25\",\"bereshit,26\",\"bereshit,27\",\"bereshit,28\",\"bereshit,29\",\"bereshit,30\",\"bereshit,31\",\"bereshit,32\",\"bereshit,33\",\"bereshit,34\",\"bereshit,35\",\"bereshit,36\",\"bereshit,37\",\"bereshit,38\",\"bereshit,39\",\"bereshit,40\",\"bereshit,41\",\"bereshit,42\",\"bereshit,43\",\"bereshit,44\",\"bereshit,45\",\"bereshit,46\",\"bereshit,47\",\"bereshit,48\",\"bereshit,49\",\"bereshit,50\",\"shmot,1\",\"shmot,2\",\"shmot,3\",\"shmot,4\",\"shmot,5\",\"shmot,6\",\"shmot,7\",\"shmot,8\",\"shmot,9\",\"shmot,10\",\"shmot,11\",\"shmot,12\",\"shmot,13\",\"shmot,14\",\"shmot,15\",\"shmot,16\",\"shmot,17\",\"shmot,18\",\"shmot,19\",\"shmot,20\",\"shmot,21\",\"shmot,22\",\"shmot,23\",\"shmot,24\",\"shmot,25\",\"shmot,26\",\"shmot,27\",\"shmot,28\",\"shmot,29\",\"shmot,30\",\"shmot,31\",\"shmot,32\",\"shmot,33\",\"shmot,34\",\"shmot,35\",\"shmot,36\",\"shmot,37\",\"shmot,38\",\"shmot,39\",\"shmot,40\",\"vayikra,1\",\"vayikra,2\",\"vayikra,3\",\"vayikra,4\",\"vayikra,5\",\"vayikra,6\",\"vayikra,7\",\"vayikra,8\",\"vayikra,9\",\"vayikra,10\",\"vayikra,11\",\"vayikra,12\",\"vayikra,13\",\"vayikra,14\",\"vayikra,15\",\"vayikra,16\",\"vayikra,17\",\"vayikra,18\",\"vayikra,19\",\"vayikra,20\",\"vayikra,21\",\"vayikra,22\",\"vayikra,23\",\"vayikra,24\",\"vayikra,25\",\"vayikra,26\",\"vayikra,27\",\"bmidbar,1\",\"bmidbar,2\",\"bmidbar,3\",\"bmidbar,4\",\"bmidbar,5\",\"bmidbar,6\",\"bmidbar,7\",\"bmidbar,8\",\"bmidbar,9\",\"bmidbar,10\",\"bmidbar,11\",\"bmidbar,12\",\"bmidbar,13\",\"bmidbar,14\",\"bmidbar,15\",\"bmidbar,16\",\"bmidbar,17\",\"bmidbar,18\",\"bmidbar,19\",\"bmidbar,20\",\"bmidbar,21\",\"bmidbar,22\",\"bmidbar,23\",\"bmidbar,24\",\"bmidbar,25\",\"bmidbar,26\",\"bmidbar,27\",\"bmidbar,28\",\"bmidbar,29\",\"bmidbar,30\",\"bmidbar,31\",\"bmidbar,32\",\"bmidbar,33\",\"bmidbar,34\",\"bmidbar,35\",\"bmidbar,36\",\"dvarim,1\",\"dvarim,2\",\"dvarim,3\",\"dvarim,4\",\"dvarim,5\",\"dvarim,6\",\"dvarim,7\",\"dvarim,8\",\"dvarim,9\",\"dvarim,10\",\"dvarim,11\",\"dvarim,12\",\"dvarim,13\",\"dvarim,14\",\"dvarim,15\",\"dvarim,16\",\"dvarim,17\",\"dvarim,18\",\"dvarim,19\",\"dvarim,20\",\"dvarim,21\",\"dvarim,22\",\"dvarim,23\",\"dvarim,24\",\"dvarim,25\",\"dvarim,26\",\"dvarim,27\",\"dvarim,28\",\"dvarim,29\",\"dvarim,30\",\"dvarim,31\",\"dvarim,32\",\"dvarim,33\",\"dvarim,34\"]'"
      ]
     },
     "execution_count": 744,
     "metadata": {},
     "output_type": "execute_result"
    }
   ],
   "source": [
    "indexstring"
   ]
  },
  {
   "cell_type": "markdown",
   "metadata": {},
   "source": [
    "## Aseret hadibrot and other data cleaning"
   ]
  },
  {
   "cell_type": "code",
   "execution_count": 55,
   "metadata": {
    "collapsed": false
   },
   "outputs": [],
   "source": [
    "# bmidbar 25:19. sefaria has it appended to the beginning of bmidbar 26:1\n",
    "tropstrings['bmidbar'][26][1] = tropstrings['bmidbar'][25][19] + tropstrings['bmidbar'][26][1]\n",
    "del tropstrings['bmidbar'][25][19]\n",
    "# map(lambda t: tropchars[t], tropstrings['bmidbar'][26][1])"
   ]
  },
  {
   "cell_type": "code",
   "execution_count": 56,
   "metadata": {
    "collapsed": false
   },
   "outputs": [],
   "source": [
    "# missing sof pasuks\n",
    "for sefer in tropstrings:\n",
    "    for perek in tropstrings[sefer]:\n",
    "        for pasuk in tropstrings[sefer][perek]:\n",
    "            if tropstrings[sefer][perek][pasuk][-1] != tropnames['sofpasuk']:\n",
    "#                 print sefer,perek,pasuk,map(lambda c: tropchars[c], tropstrings[sefer][perek][pasuk])\n",
    "                tropstrings[sefer][perek][pasuk] += tropnames['sofpasuk']"
   ]
  },
  {
   "cell_type": "code",
   "execution_count": 57,
   "metadata": {
    "collapsed": false
   },
   "outputs": [],
   "source": [
    "newshmot20 = {}\n",
    "\n",
    "newshmot20[1] = tropstrings['shmot'][20][1]\n",
    "newshmot20[2] = tropnames['pashta'] + tropnames['munakh'] + tropnames['katan'] + tropnames['munakh'] + tropnames['telishaketana'] + tropnames['kadma'] + tropnames['geresh'] + tropnames['munakh'] + tropnames['revii']\n",
    "newshmot20[3] = tropnames['munakh'] + tropnames['munakh'] + tropnames['telishaketana'] + tropnames['kadma'] + tropnames['geresh'] + tropnames['revii']\n",
    "newshmot20[4] = tropnames['munakh'] + tropnames['munakh'] + tropnames['munakh'] + tropnames['pazer'] + tropnames['munakh'] + tropnames['munakh'] + tropnames['pazer'] + tropnames['telishaketana'] + tropnames['kadma'] + tropnames['geresh'] + tropnames['merkha'] + tropnames['munakh'] + tropnames['munakh'] + tropnames['revii']\n",
    "newshmot20[5] = tropnames['munakh'] + tropnames['zarka'] + tropnames['munakh'] + tropnames['segol'] + tropnames['munakh'] + tropnames['gershayim'] + tropnames['mapakh'] + tropnames['pashta'] + tropnames['munakh'] + tropnames['katan'] + tropnames['telishagedola'] + tropnames['kadma'] + tropnames['darga'] + tropnames['tevir'] + tropnames['merkha'] + tropnames['tipkha'] + tropnames['etnakhta']\n",
    "newshmot20[6] = tropnames['mapakh'] + tropnames['pashta'] + tropnames['katan'] + tropnames['tipkha'] + tropnames['merkha'] + tropnames['sofpasuk']\n",
    "newshmot20[7] = tropnames['merkha'] + tropnames['tevir'] + tropnames['merkha'] + tropnames['tipkha'] + tropnames['etnakhta'] + tropnames['munakh'] + tropnames['mapakh'] + tropnames['pashta'] + tropnames['katan'] + tropnames['tevir'] + tropnames['merkha'] + tropnames['tipkha'] + tropnames['sofpasuk']\n",
    "newshmot20[8] = tropnames['telishaketana'] + tropnames['kadma'] + tropnames['geresh'] + tropnames['revii']\n",
    "newshmot20[9] = tropnames['munakh'] + tropnames['munakh'] + tropnames['zarka'] + tropnames['munakh'] + tropnames['segol']\n",
    "newshmot20[10] = tropnames['kadma'] + tropnames['geresh'] + tropnames['munakh'] + tropnames['munakh'] + tropnames['revii'] + tropnames['munakh'] + tropnames['munakh'] + tropnames['pazer'] + tropnames['munakh'] + tropnames['telishagedola'] + tropnames['kadma'] + tropnames['geresh'] + tropnames['revii'] + tropnames['pashta'] + tropnames['munakh'] + tropnames['katan']\n",
    "# newshmot20[11] = tropnames['munakh'] + tropnames['telishaketana'] + tropnames['kadma'] + tropnames['geresh'] + tropnames['munakh'] + tropnames['revii'] + tropnames['pashta'] + tropnames['katan'] + tropnames['tipkha'] + tropnames['munakh'] + tropnames['etnakhta']\n",
    "newshmot20[11] = tropstrings['shmot'][20][11]\n",
    "newshmot20[12] = tropstrings['shmot'][20][12]\n",
    "newshmot20[13] = tropnames['tipkha'] + tropnames['sofpasuk'] + tropnames['tipkha'] + tropnames['sofpasuk'] + tropnames['merkha'] + tropnames['tipkha'] + tropnames['merkha'] + tropnames['sofpasuk']\n",
    "newshmot20[14] = tropnames['gershayim'] + tropnames['munakh'] + tropnames['revii'] + tropnames['mapakh'] + tropnames['pashta'] + tropnames['munakh'] + tropnames['katan'] + tropnames['tipkha'] + tropnames['merkha'] + tropnames['sofpasuk']\n",
    "\n",
    "for p in tropstrings['shmot'][20]:\n",
    "    if p >= 18:\n",
    "        newshmot20[p-3] = tropstrings['shmot'][20][p]\n",
    "\n",
    "tropstrings['shmot'][20] = newshmot20"
   ]
  },
  {
   "cell_type": "code",
   "execution_count": 58,
   "metadata": {
    "collapsed": false
   },
   "outputs": [],
   "source": [
    "# tropstrings['dvarim'][5]\n",
    "\n",
    "newdvarim5 = {}\n",
    "\n",
    "for p in tropstrings['dvarim'][5]:\n",
    "    if p <= 5:\n",
    "        newdvarim5[p] = tropstrings['dvarim'][5][p]\n",
    "\n",
    "# newdvarim5[5] = tropnames['telishagedola'] + tropnames['kadma'] + tropnames['mapakh'] + tropnames['pashta'] + tropnames['munakh'] + tropnames['katon'] + tropnames['merkha'] + tropnames['tipkha'] + tropnames['munakh'] + tropnames['etnakhta'] + tropnames['mapakh'] + tropnames['pashta'] + tropnames['munakh'] + tropnames['katon'] + tropnames['merkha'] + tropnames['tipkha'] + tropnames['sofpasuk']\n",
    "newdvarim5[6] = tropnames['pashta'] + tropnames['munakh'] + tropnames['katan'] + tropnames['munakh'] + tropnames['telishaketana'] + tropnames['kadma'] + tropnames['geresh'] + tropnames['munakh'] + tropnames['revii']\n",
    "newdvarim5[7] = tropnames['munakh'] + tropnames['telishaketana'] + tropnames['kadma'] + tropnames['geresh'] + tropnames['revii']\n",
    "newdvarim5[8] = tropnames['munakh'] + tropnames['munakh'] + tropnames['munakh'] + tropnames['pazer'] + tropnames['munakh'] + tropnames['munakh'] + tropnames['pazer'] + tropnames['telishaketana'] + tropnames['kadma'] + tropnames['geresh'] + tropnames['merkha'] + tropnames['munakh'] + tropnames['munakh'] + tropnames['revii']\n",
    "newdvarim5[9] = tropnames['munakh'] + tropnames['zarka'] + tropnames['munakh'] + tropnames['segol'] + tropnames['munakh'] + tropnames['gershayim'] + tropnames['mapakh'] + tropnames['pashta'] + tropnames['munakh'] + tropnames['katan'] + tropnames['telishagedola'] + tropnames['kadma'] + tropnames['darga'] + tropnames['tevir'] + tropnames['merkha'] + tropnames['tipkha'] + tropnames['etnakhta']\n",
    "newdvarim5[10] = tropnames['mapakh'] + tropnames['pashta'] + tropnames['katan'] + tropnames['tipkha'] + tropnames['merkha'] + tropnames['sofpasuk']\n",
    "newdvarim5[11] = tropstrings['dvarim'][5][11]\n",
    "newdvarim5[12] = tropnames['munakh'] + tropnames['telishaketana'] + tropnames['kadma'] + tropnames['geresh'] + tropnames['merkha'] + tropnames['munakh'] + tropnames['munakh'] + tropnames['revii']\n",
    "newdvarim5[13] = tropnames['munakh'] + tropnames['munakh'] + tropnames['zarka'] + tropnames['munakh'] + tropnames['segol']\n",
    "newdvarim5[14] = tropnames['kadma'] + tropnames['geresh'] + tropnames['munakh'] + tropnames['munakh'] + tropnames['revii'] + tropnames['munakh'] + tropnames['munakh'] + tropnames['pazer'] + tropnames['munakh'] + tropnames['munakh'] + tropnames['munakh'] + tropnames['telishagedola'] + tropnames['kadma'] + tropnames['geresh'] + tropnames['revii'] + tropnames['pashta'] + tropnames['munakh'] + tropnames['katan'] + tropnames['revii'] + tropnames['tevir'] + tropnames['merkha'] + tropnames['tipkha'] + tropnames['etnakhta']\n",
    "newdvarim5[15] = tropnames['gershayim'] + tropnames['merkha'] + tropnames['munakh'] + tropnames['munakh'] + tropnames['revii'] + tropnames['telishaketana'] + tropnames['kadma'] + tropnames['mapakh'] + tropnames['pashta'] + tropnames['mapakh'] + tropnames['pashta'] + tropnames['munakh'] + tropnames['katan'] + tropnames['revii'] + tropnames['pashta'] + tropnames['munakh'] + tropnames['katan'] + tropnames['tipkha'] + tropnames['merkha'] + tropnames['sofpasuk']\n",
    "newdvarim5[16] = tropstrings['dvarim'][5][16]\n",
    "newdvarim5[17] = tropnames['tipkha'] + tropnames['sofpasuk'] + tropnames['tipkha'] + tropnames['sofpasuk'] + tropnames['tipkha'] + tropnames['sofpasuk'] + tropnames['merkha'] + tropnames['tipkha'] + tropnames['merkha'] + tropnames['sofpasuk']\n",
    "\n",
    "for p in tropstrings['dvarim'][5]:\n",
    "    if p >= 21:\n",
    "        newdvarim5[p-3] = tropstrings['dvarim'][5][p]\n",
    "\n",
    "tropstrings['dvarim'][5] = newdvarim5"
   ]
  },
  {
   "cell_type": "code",
   "execution_count": 59,
   "metadata": {
    "collapsed": true
   },
   "outputs": [],
   "source": [
    "# bereshit 35:22\n",
    "tropstrings['bereshit'][35][22] = tropnames['revii'] + tropnames['mapakh'] + tropnames['pashta'] + tropnames['munakh'] + tropnames['katan'] + tropnames['munakh'] + tropnames['revii'] + tropnames['pashta'] + tropnames['pashta'] + tropnames['pashta'] + tropnames['munakh'] + tropnames['katan'] + tropnames['tipkha'] + tropnames['etnakhta'] + tropnames['merkha'] + tropnames['tipkha'] + tropnames['merkha'] + tropnames['sofpasuk']"
   ]
  },
  {
   "cell_type": "code",
   "execution_count": 60,
   "metadata": {
    "collapsed": false
   },
   "outputs": [],
   "source": [
    "# dvarim 13:15\n",
    "newdvarim1315 = list(tropstrings['dvarim'][13][15])\n",
    "newdvarim1315[1] = tropnames['tevir']\n",
    "tropstrings['dvarim'][13][15] = ''.join(newdvarim1315)"
   ]
  },
  {
   "cell_type": "code",
   "execution_count": 61,
   "metadata": {
    "collapsed": false
   },
   "outputs": [],
   "source": [
    "# shmot 4:10\n",
    "newshmot410 = list(tropstrings['shmot'][4][10])\n",
    "newshmot410.insert(15,tropnames['tipkha'])\n",
    "tropstrings['shmot'][4][10] = ''.join(newshmot410)"
   ]
  },
  {
   "cell_type": "markdown",
   "metadata": {},
   "source": [
    "## Nevermind all that stuff up there. Just make an array of strings"
   ]
  },
  {
   "cell_type": "code",
   "execution_count": 62,
   "metadata": {
    "collapsed": true
   },
   "outputs": [],
   "source": [
    "flattropstrings = [{'sefer': s, 'perek': pe, 'pasuk': pa, 'trop': tropstrings[s][pe][pa]} for s in tropstrings for pe in tropstrings[s] for pa in tropstrings[s][pe]]"
   ]
  },
  {
   "cell_type": "code",
   "execution_count": 63,
   "metadata": {
    "collapsed": false
   },
   "outputs": [],
   "source": [
    "with open('tropstrings.json', 'wb') as outfile:\n",
    "    json.dump(flattropstrings, outfile)"
   ]
  },
  {
   "cell_type": "code",
   "execution_count": 30,
   "metadata": {
    "collapsed": false
   },
   "outputs": [
    {
     "data": {
      "text/plain": [
       "'[{\"char\": \"\\\\u0597\", \"name\": \"revii\"}, {\"char\": \"\\\\u059d\", \"name\": \"gereshmukdam\"}, {\"char\": \"\\\\u05a6\", \"name\": \"merkhakfula\"}, {\"char\": \"\\\\u059e\", \"name\": \"gershayim\"}, {\"char\": \"\\\\u059b\", \"name\": \"tevir\"}, {\"char\": \"\\\\u059f\", \"name\": \"karnepara\"}, {\"char\": \"\\\\u0595\", \"name\": \"gadol\"}, {\"char\": \"\\\\u05a0\", \"name\": \"telishagedola\"}, {\"char\": \"\\\\u0599\", \"name\": \"pashta\"}, {\"char\": \"\\\\u0593\", \"name\": \"shalshelet\"}, {\"char\": \"\\\\u0596\", \"name\": \"tipkha\"}, {\"char\": \"\\\\u059a\", \"name\": \"yetiv\"}, {\"char\": \"\\\\u0592\", \"name\": \"segol\"}, {\"char\": \"\\\\u05aa\", \"name\": \"yerakhbenyomo\"}, {\"char\": \"\\\\u05ae\", \"name\": \"zarka\"}, {\"char\": \"\\\\u05a3\", \"name\": \"munakh\"}, {\"char\": \"\\\\u05a5\", \"name\": \"merkha\"}, {\"char\": \"\\\\u05a8\", \"name\": \"kadma\"}, {\"char\": \"\\\\u0591\", \"name\": \"etnakhta\"}, {\"char\": \"\\\\u05c3\", \"name\": \"sofpasuk\"}, {\"char\": \"\\\\u0598\", \"name\": \"tsinnorit\"}, {\"char\": \"\\\\u059c\", \"name\": \"geresh\"}, {\"char\": \"\\\\u05a9\", \"name\": \"telishaketana\"}, {\"char\": \"\\\\u05a7\", \"name\": \"darga\"}, {\"char\": \"\\\\u05a1\", \"name\": \"pazer\"}, {\"char\": \"\\\\u05a4\", \"name\": \"mapakh\"}, {\"char\": \"\\\\u0594\", \"name\": \"katan\"}]'"
      ]
     },
     "execution_count": 30,
     "metadata": {},
     "output_type": "execute_result"
    }
   ],
   "source": [
    "json.dumps([{\"name\": n, \"char\": tropnames[n]} for n in tropnames])"
   ]
  },
  {
   "cell_type": "code",
   "execution_count": 20,
   "metadata": {
    "collapsed": false
   },
   "outputs": [
    {
     "data": {
      "text/plain": [
       "u'\\u0596\\u05a5'"
      ]
     },
     "execution_count": 20,
     "metadata": {},
     "output_type": "execute_result"
    }
   ],
   "source": [
    "tropnames['tipkha'] + tropnames['merkha']"
   ]
  },
  {
   "cell_type": "code",
   "execution_count": 27,
   "metadata": {
    "collapsed": false
   },
   "outputs": [
    {
     "data": {
      "text/plain": [
       "'munakhrevii'"
      ]
     },
     "execution_count": 27,
     "metadata": {},
     "output_type": "execute_result"
    }
   ],
   "source": [
    "tropchars[u'\\u05a3'] + tropchars[u'\\u0597']"
   ]
  }
 ],
 "metadata": {
  "kernelspec": {
   "display_name": "Python 2",
   "language": "python",
   "name": "python2"
  },
  "language_info": {
   "codemirror_mode": {
    "name": "ipython",
    "version": 2
   },
   "file_extension": ".py",
   "mimetype": "text/x-python",
   "name": "python",
   "nbconvert_exporter": "python",
   "pygments_lexer": "ipython2",
   "version": "2.7.11"
  }
 },
 "nbformat": 4,
 "nbformat_minor": 0
}
